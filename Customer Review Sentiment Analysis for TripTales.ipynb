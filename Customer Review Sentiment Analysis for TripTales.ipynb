{
 "cells": [
  {
   "cell_type": "code",
   "execution_count": null,
   "id": "d4711337",
   "metadata": {},
   "outputs": [],
   "source": [
    "# 📘 Customer Review Sentiment Analysis for TripTales\n",
    "print('Hello from YBI Foundation 🚀')"
   ]
  }
 ],
 "metadata": {},
 "nbformat": 4,
 "nbformat_minor": 5
}
